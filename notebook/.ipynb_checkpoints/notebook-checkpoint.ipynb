{
 "cells": [
  {
   "cell_type": "markdown",
   "id": "002ebae1-d071-4d75-ab91-9484c6023ce9",
   "metadata": {},
   "source": [
    "### 1. Setup & Data Collections"
   ]
  },
  {
   "cell_type": "code",
   "execution_count": 20,
   "id": "cf76b4d2-bf48-4f89-87da-07e0b511ceb7",
   "metadata": {},
   "outputs": [
    {
     "name": "stdout",
     "output_type": "stream",
     "text": [
      "group\n",
      "control      500\n",
      "treatment    500\n",
      "Name: count, dtype: int64\n"
     ]
    },
    {
     "data": {
      "text/html": [
       "<div>\n",
       "<style scoped>\n",
       "    .dataframe tbody tr th:only-of-type {\n",
       "        vertical-align: middle;\n",
       "    }\n",
       "\n",
       "    .dataframe tbody tr th {\n",
       "        vertical-align: top;\n",
       "    }\n",
       "\n",
       "    .dataframe thead th {\n",
       "        text-align: right;\n",
       "    }\n",
       "</style>\n",
       "<table border=\"1\" class=\"dataframe\">\n",
       "  <thead>\n",
       "    <tr style=\"text-align: right;\">\n",
       "      <th></th>\n",
       "      <th>group</th>\n",
       "      <th>signup</th>\n",
       "    </tr>\n",
       "  </thead>\n",
       "  <tbody>\n",
       "    <tr>\n",
       "      <th>0</th>\n",
       "      <td>control</td>\n",
       "      <td>0</td>\n",
       "    </tr>\n",
       "    <tr>\n",
       "      <th>1</th>\n",
       "      <td>control</td>\n",
       "      <td>1</td>\n",
       "    </tr>\n",
       "    <tr>\n",
       "      <th>2</th>\n",
       "      <td>control</td>\n",
       "      <td>0</td>\n",
       "    </tr>\n",
       "    <tr>\n",
       "      <th>3</th>\n",
       "      <td>control</td>\n",
       "      <td>0</td>\n",
       "    </tr>\n",
       "    <tr>\n",
       "      <th>4</th>\n",
       "      <td>control</td>\n",
       "      <td>0</td>\n",
       "    </tr>\n",
       "  </tbody>\n",
       "</table>\n",
       "</div>"
      ],
      "text/plain": [
       "     group  signup\n",
       "0  control       0\n",
       "1  control       1\n",
       "2  control       0\n",
       "3  control       0\n",
       "4  control       0"
      ]
     },
     "execution_count": 20,
     "metadata": {},
     "output_type": "execute_result"
    }
   ],
   "source": [
    "import numpy as np\n",
    "import pandas as pd\n",
    "\n",
    "\n",
    "#Set random seed for reproducibility\n",
    "np.random.seed(42)\n",
    "\n",
    "#Sample size\n",
    "n_users=500\n",
    "\n",
    "#conversion rates\n",
    "control_conversion=0.12 # 12% for original button\n",
    "treatment_conversion=0.15 # 15% for new button\n",
    "\n",
    "#simulate binary outcomes (1= signup, 0 = no_singup)\n",
    "\n",
    "control_group = np.random.binomial(1,control_conversion,n_users)\n",
    "treatment_group=np.random.binomial(1,treatment_conversion,n_users)\n",
    "\n",
    "#create DataFrame\n",
    "df=pd.DataFrame({\n",
    "    'group':['control'] * n_users + ['treatment']* n_users,\n",
    "    'signup':np.concatenate([control_group,treatment_group])\n",
    "})\n",
    "print(df['group'].value_counts()) \n",
    "df.head()\n",
    "\n",
    "\n"
   ]
  },
  {
   "cell_type": "code",
   "execution_count": 16,
   "id": "0a253564-b4c8-4e53-b8fb-96911bfbe9fb",
   "metadata": {},
   "outputs": [
    {
     "name": "stdout",
     "output_type": "stream",
     "text": [
      "group\n",
      "control      500\n",
      "treatment    500\n",
      "Name: count, dtype: int64\n"
     ]
    },
    {
     "data": {
      "text/html": [
       "<div>\n",
       "<style scoped>\n",
       "    .dataframe tbody tr th:only-of-type {\n",
       "        vertical-align: middle;\n",
       "    }\n",
       "\n",
       "    .dataframe tbody tr th {\n",
       "        vertical-align: top;\n",
       "    }\n",
       "\n",
       "    .dataframe thead th {\n",
       "        text-align: right;\n",
       "    }\n",
       "</style>\n",
       "<table border=\"1\" class=\"dataframe\">\n",
       "  <thead>\n",
       "    <tr style=\"text-align: right;\">\n",
       "      <th></th>\n",
       "      <th>group</th>\n",
       "      <th>signup</th>\n",
       "    </tr>\n",
       "  </thead>\n",
       "  <tbody>\n",
       "    <tr>\n",
       "      <th>0</th>\n",
       "      <td>control</td>\n",
       "      <td>0</td>\n",
       "    </tr>\n",
       "    <tr>\n",
       "      <th>1</th>\n",
       "      <td>control</td>\n",
       "      <td>1</td>\n",
       "    </tr>\n",
       "    <tr>\n",
       "      <th>2</th>\n",
       "      <td>control</td>\n",
       "      <td>0</td>\n",
       "    </tr>\n",
       "    <tr>\n",
       "      <th>3</th>\n",
       "      <td>control</td>\n",
       "      <td>0</td>\n",
       "    </tr>\n",
       "    <tr>\n",
       "      <th>4</th>\n",
       "      <td>control</td>\n",
       "      <td>0</td>\n",
       "    </tr>\n",
       "    <tr>\n",
       "      <th>...</th>\n",
       "      <td>...</td>\n",
       "      <td>...</td>\n",
       "    </tr>\n",
       "    <tr>\n",
       "      <th>495</th>\n",
       "      <td>control</td>\n",
       "      <td>0</td>\n",
       "    </tr>\n",
       "    <tr>\n",
       "      <th>496</th>\n",
       "      <td>control</td>\n",
       "      <td>0</td>\n",
       "    </tr>\n",
       "    <tr>\n",
       "      <th>497</th>\n",
       "      <td>control</td>\n",
       "      <td>0</td>\n",
       "    </tr>\n",
       "    <tr>\n",
       "      <th>498</th>\n",
       "      <td>control</td>\n",
       "      <td>1</td>\n",
       "    </tr>\n",
       "    <tr>\n",
       "      <th>499</th>\n",
       "      <td>control</td>\n",
       "      <td>1</td>\n",
       "    </tr>\n",
       "  </tbody>\n",
       "</table>\n",
       "<p>500 rows × 2 columns</p>\n",
       "</div>"
      ],
      "text/plain": [
       "       group  signup\n",
       "0    control       0\n",
       "1    control       1\n",
       "2    control       0\n",
       "3    control       0\n",
       "4    control       0\n",
       "..       ...     ...\n",
       "495  control       0\n",
       "496  control       0\n",
       "497  control       0\n",
       "498  control       1\n",
       "499  control       1\n",
       "\n",
       "[500 rows x 2 columns]"
      ]
     },
     "execution_count": 16,
     "metadata": {},
     "output_type": "execute_result"
    }
   ],
   "source": [
    "import numpy as np\n",
    "import pandas as pd\n",
    "\n",
    "np.random.seed(42)  # For consistent results\n",
    "\n",
    "n_users = 500\n",
    "control_conversion = 0.12\n",
    "treatment_conversion = 0.15\n",
    "\n",
    "control_group = np.random.binomial(1, control_conversion, n_users)\n",
    "treatment_group = np.random.binomial(1, treatment_conversion, n_users)\n",
    "\n",
    "df = pd.DataFrame({\n",
    "    'group': ['control'] * n_users + ['treatment'] * n_users,\n",
    "    'signup': np.concatenate([control_group, treatment_group])\n",
    "})\n",
    "\n",
    "print(df['group'].value_counts())  # ✅ Should show 500 control, 500 treatment\n",
    "df.head(500)\n"
   ]
  },
  {
   "cell_type": "markdown",
   "id": "72bcb1a7-c6a1-4ee4-bbbe-2ccf6afdde77",
   "metadata": {},
   "source": [
    "### 2. Hypothesis Setup"
   ]
  },
  {
   "cell_type": "markdown",
   "id": "9bcc605a-4041-4967-8606-cc0486ac2efc",
   "metadata": {},
   "source": [
    "-  Null Hypothesis (H_0): No difference in signup rates.\n",
    "\n",
    "- Alternative Hypothesis (H_1): New CTA has a higher signup rate.\n",
    "\n",
    "- Type I Error = α = 0.05 (common threshold)"
   ]
  },
  {
   "cell_type": "markdown",
   "id": "bb0ca0ff-0b96-4de1-a501-b4dc5d232493",
   "metadata": {},
   "source": [
    "### 3. Statistical Test(Z-test for proportions)"
   ]
  },
  {
   "cell_type": "code",
   "execution_count": 35,
   "id": "74a8ea18-1d59-4e8a-82a8-a7133acae7e5",
   "metadata": {},
   "outputs": [
    {
     "name": "stdout",
     "output_type": "stream",
     "text": [
      "Two sample z: -0.091\n",
      "Two smple p-value: 0.5364\n",
      "Proportions: Group1(p_1)= 0.14,Group2(p_2)=0.14\n"
     ]
    }
   ],
   "source": [
    "from statsmodels.stats.proportion import proportions_ztest\n",
    "\n",
    "\n",
    "#--------------------Built-in Function--------------------------------------#\n",
    "# Built-in z-test\n",
    "count = [control_group.sum(), treatment_group.sum()]\n",
    "nobs = [n_users , n_users]\n",
    "\n",
    "\n",
    "z_stat, p_val = proportions_ztest(count, nobs,alternative='larger') # since Hypothesis is right tail\n",
    "\n",
    "# Proportions\n",
    "p_1, p_2 = count[0]/nobs[0], count[1]/nobs[1]\n",
    "\n",
    "print(f'Two sample z: {z_stat:.3f}')\n",
    "print(f'Two smple p-value: {p_val:.4f}')\n",
    "print(f'Proportions: Group1(p_1)= {p_1:.2f},Group2(p_2)={p_2:.2f}')"
   ]
  },
  {
   "cell_type": "markdown",
   "id": "0ab62f8c-8396-463f-a6ed-a277dbb396f4",
   "metadata": {},
   "source": [
    "#### Interpretation :\n",
    "- If p_val_right_tailed( 0.5364) < 0.05, reject H₀ → New CTA significantly better\n",
    "\n",
    "- If p_val_right_tailed( 0.5364) ≥ 0.05, fail to reject H₀ → No significant improvement\n",
    "\n",
    "- Thus, fail to reject H₀ → No significant improvement"
   ]
  },
  {
   "cell_type": "code",
   "execution_count": 45,
   "id": "87e4707a-64fa-4f01-b891-d5c72b140b60",
   "metadata": {},
   "outputs": [
    {
     "data": {
      "image/png": "[encoded data removed]",
      "text/plain": [
       "<Figure size 640x480 with 1 Axes>"
      ]
     },
     "metadata": {},
     "output_type": "display_data"
    }
   ],
   "source": [
    "import matplotlib.pyplot as plt\n",
    "\n",
    "# Bar plot of proportions\n",
    "groups = ['Old_Signup', 'New_Signup']\n",
    "proportions = [p_1, p_2]\n",
    "\n",
    "plt.bar(groups, proportions, color=['skyblue', 'lightgreen'])\n",
    "plt.ylim(0, 1)\n",
    "plt.ylabel('Proportion of Success ')\n",
    "plt.title('Comparison of Success Proportions Between Old Signup and New Signup ')\n",
    "\n",
    "# Annotate bars with values\n",
    "for i, v in enumerate(proportions):\n",
    "    plt.text(i, v + 0.02, f\"{v:.2f}\", ha='center', fontweight='bold')\n",
    "\n",
    "plt.grid(axis='y', linestyle='--', alpha=0.7)\n",
    "plt.savefig('Two_sample_z_test_for_proportions.png')\n",
    "plt.savefig('Signup_AB_testing.png')\n",
    "plt.show()"
   ]
  },
  {
   "cell_type": "code",
   "execution_count": null,
   "id": "67d978bc-98a9-4f43-9845-09b21bd202d6",
   "metadata": {},
   "outputs": [],
   "source": []
  }
 ],
 "metadata": {
  "kernelspec": {
   "display_name": "Python [conda env:base] *",
   "language": "python",
   "name": "conda-base-py"
  },
  "language_info": {
   "codemirror_mode": {
    "name": "ipython",
    "version": 3
   },
   "file_extension": ".py",
   "mimetype": "text/x-python",
   "name": "python",
   "nbconvert_exporter": "python",
   "pygments_lexer": "ipython3",
   "version": "3.12.7"
  }
 },
 "nbformat": 4,
 "nbformat_minor": 5
}
